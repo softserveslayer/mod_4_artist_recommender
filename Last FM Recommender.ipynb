{
 "cells": [
  {
   "cell_type": "code",
   "execution_count": 1,
   "metadata": {},
   "outputs": [],
   "source": [
    "import pandas as pd\n",
    "import numpy as np"
   ]
  },
  {
   "cell_type": "markdown",
   "metadata": {},
   "source": [
    "### Importing Data"
   ]
  },
  {
   "cell_type": "code",
   "execution_count": 146,
   "metadata": {},
   "outputs": [],
   "source": [
    "#Reading the 'plays' dataset, turning all items into integers\n",
    "users = pd.DataFrame(np.array([i.strip().split(\"\\t\") for i in open('lastfm_data/user_artists.dat', 'r', encoding='latin-1').readlines()]),\n",
    "                       columns = ['userID', 'artistID', 'plays'])\n",
    "users = users.drop(users.index[0])\n",
    "users = users.apply(pd.to_numeric)\n",
    "users.head()\n",
    "\n",
    "#Reading 'artists' dataset, splitting the first column into three columns on the newline, turning artistid into int\n",
    "artists = pd.DataFrame(open('lastfm_data/artists.dat', 'r',  encoding='latin-1').readlines())\n",
    "artists = pd.DataFrame(artists[0].str.split(\"\\t\").values.tolist(),columns = ['artistID', 'name', 'url', 'pictureURL'])\n",
    "artists = artists.drop(artists.index[0])\n",
    "artists = artists.drop(columns=['pictureURL'])\n",
    "artists['artistID'] = artists['artistID'].apply(pd.to_numeric)\n"
   ]
  },
  {
   "cell_type": "markdown",
   "metadata": {},
   "source": [
    "### Check how many artists each user has listened to"
   ]
  },
  {
   "cell_type": "code",
   "execution_count": 141,
   "metadata": {},
   "outputs": [
    {
     "data": {
      "text/plain": [
       "userID\n",
       "2    50\n",
       "3    50\n",
       "4    50\n",
       "5    50\n",
       "6    50\n",
       "Name: artistID, dtype: int64"
      ]
     },
     "execution_count": 141,
     "metadata": {},
     "output_type": "execute_result"
    }
   ],
   "source": [
    "df = users.groupby('userID')['artistID'].nunique()\n",
    "df.head()"
   ]
  },
  {
   "cell_type": "code",
   "execution_count": 147,
   "metadata": {},
   "outputs": [
    {
     "name": "stdout",
     "output_type": "stream",
     "text": [
      "   userID  artistID  plays\n",
      "1       2        51  13883\n",
      "2       2        52  11690\n",
      "3       2        53  11351\n",
      "4       2        54  10300\n",
      "5       2        55   8983\n",
      "\n",
      "   artistID               name                                         url\n",
      "1         1       MALICE MIZER       http://www.last.fm/music/MALICE+MIZER\n",
      "2         2    Diary of Dreams    http://www.last.fm/music/Diary+of+Dreams\n",
      "3         3  Carpathian Forest  http://www.last.fm/music/Carpathian+Forest\n",
      "4         4       Moi dix Mois       http://www.last.fm/music/Moi+dix+Mois\n",
      "5         5        Bella Morte        http://www.last.fm/music/Bella+Morte\n"
     ]
    }
   ],
   "source": [
    "print(users.head())\n",
    "print()\n",
    "print(artists.head())"
   ]
  },
  {
   "cell_type": "markdown",
   "metadata": {},
   "source": [
    "### Creating The Identity Matrix"
   ]
  },
  {
   "cell_type": "code",
   "execution_count": 148,
   "metadata": {},
   "outputs": [
    {
     "data": {
      "text/html": [
       "<div>\n",
       "<style scoped>\n",
       "    .dataframe tbody tr th:only-of-type {\n",
       "        vertical-align: middle;\n",
       "    }\n",
       "\n",
       "    .dataframe tbody tr th {\n",
       "        vertical-align: top;\n",
       "    }\n",
       "\n",
       "    .dataframe thead th {\n",
       "        text-align: right;\n",
       "    }\n",
       "</style>\n",
       "<table border=\"1\" class=\"dataframe\">\n",
       "  <thead>\n",
       "    <tr style=\"text-align: right;\">\n",
       "      <th>artistID</th>\n",
       "      <th>1</th>\n",
       "      <th>2</th>\n",
       "      <th>3</th>\n",
       "      <th>4</th>\n",
       "      <th>5</th>\n",
       "      <th>6</th>\n",
       "      <th>7</th>\n",
       "      <th>8</th>\n",
       "      <th>9</th>\n",
       "      <th>10</th>\n",
       "      <th>...</th>\n",
       "      <th>18736</th>\n",
       "      <th>18737</th>\n",
       "      <th>18738</th>\n",
       "      <th>18739</th>\n",
       "      <th>18740</th>\n",
       "      <th>18741</th>\n",
       "      <th>18742</th>\n",
       "      <th>18743</th>\n",
       "      <th>18744</th>\n",
       "      <th>18745</th>\n",
       "    </tr>\n",
       "    <tr>\n",
       "      <th>userID</th>\n",
       "      <th></th>\n",
       "      <th></th>\n",
       "      <th></th>\n",
       "      <th></th>\n",
       "      <th></th>\n",
       "      <th></th>\n",
       "      <th></th>\n",
       "      <th></th>\n",
       "      <th></th>\n",
       "      <th></th>\n",
       "      <th></th>\n",
       "      <th></th>\n",
       "      <th></th>\n",
       "      <th></th>\n",
       "      <th></th>\n",
       "      <th></th>\n",
       "      <th></th>\n",
       "      <th></th>\n",
       "      <th></th>\n",
       "      <th></th>\n",
       "      <th></th>\n",
       "    </tr>\n",
       "  </thead>\n",
       "  <tbody>\n",
       "    <tr>\n",
       "      <th>2</th>\n",
       "      <td>0.0</td>\n",
       "      <td>0.0</td>\n",
       "      <td>0.0</td>\n",
       "      <td>0.0</td>\n",
       "      <td>0.0</td>\n",
       "      <td>0.0</td>\n",
       "      <td>0.0</td>\n",
       "      <td>0.0</td>\n",
       "      <td>0.0</td>\n",
       "      <td>0.0</td>\n",
       "      <td>...</td>\n",
       "      <td>0.0</td>\n",
       "      <td>0.0</td>\n",
       "      <td>0.0</td>\n",
       "      <td>0.0</td>\n",
       "      <td>0.0</td>\n",
       "      <td>0.0</td>\n",
       "      <td>0.0</td>\n",
       "      <td>0.0</td>\n",
       "      <td>0.0</td>\n",
       "      <td>0.0</td>\n",
       "    </tr>\n",
       "    <tr>\n",
       "      <th>3</th>\n",
       "      <td>0.0</td>\n",
       "      <td>0.0</td>\n",
       "      <td>0.0</td>\n",
       "      <td>0.0</td>\n",
       "      <td>0.0</td>\n",
       "      <td>0.0</td>\n",
       "      <td>0.0</td>\n",
       "      <td>0.0</td>\n",
       "      <td>0.0</td>\n",
       "      <td>0.0</td>\n",
       "      <td>...</td>\n",
       "      <td>0.0</td>\n",
       "      <td>0.0</td>\n",
       "      <td>0.0</td>\n",
       "      <td>0.0</td>\n",
       "      <td>0.0</td>\n",
       "      <td>0.0</td>\n",
       "      <td>0.0</td>\n",
       "      <td>0.0</td>\n",
       "      <td>0.0</td>\n",
       "      <td>0.0</td>\n",
       "    </tr>\n",
       "    <tr>\n",
       "      <th>4</th>\n",
       "      <td>0.0</td>\n",
       "      <td>0.0</td>\n",
       "      <td>0.0</td>\n",
       "      <td>0.0</td>\n",
       "      <td>0.0</td>\n",
       "      <td>0.0</td>\n",
       "      <td>0.0</td>\n",
       "      <td>0.0</td>\n",
       "      <td>0.0</td>\n",
       "      <td>0.0</td>\n",
       "      <td>...</td>\n",
       "      <td>0.0</td>\n",
       "      <td>0.0</td>\n",
       "      <td>0.0</td>\n",
       "      <td>0.0</td>\n",
       "      <td>0.0</td>\n",
       "      <td>0.0</td>\n",
       "      <td>0.0</td>\n",
       "      <td>0.0</td>\n",
       "      <td>0.0</td>\n",
       "      <td>0.0</td>\n",
       "    </tr>\n",
       "    <tr>\n",
       "      <th>5</th>\n",
       "      <td>0.0</td>\n",
       "      <td>0.0</td>\n",
       "      <td>0.0</td>\n",
       "      <td>0.0</td>\n",
       "      <td>0.0</td>\n",
       "      <td>0.0</td>\n",
       "      <td>0.0</td>\n",
       "      <td>0.0</td>\n",
       "      <td>0.0</td>\n",
       "      <td>0.0</td>\n",
       "      <td>...</td>\n",
       "      <td>0.0</td>\n",
       "      <td>0.0</td>\n",
       "      <td>0.0</td>\n",
       "      <td>0.0</td>\n",
       "      <td>0.0</td>\n",
       "      <td>0.0</td>\n",
       "      <td>0.0</td>\n",
       "      <td>0.0</td>\n",
       "      <td>0.0</td>\n",
       "      <td>0.0</td>\n",
       "    </tr>\n",
       "    <tr>\n",
       "      <th>6</th>\n",
       "      <td>0.0</td>\n",
       "      <td>0.0</td>\n",
       "      <td>0.0</td>\n",
       "      <td>0.0</td>\n",
       "      <td>0.0</td>\n",
       "      <td>0.0</td>\n",
       "      <td>0.0</td>\n",
       "      <td>0.0</td>\n",
       "      <td>0.0</td>\n",
       "      <td>0.0</td>\n",
       "      <td>...</td>\n",
       "      <td>0.0</td>\n",
       "      <td>0.0</td>\n",
       "      <td>0.0</td>\n",
       "      <td>0.0</td>\n",
       "      <td>0.0</td>\n",
       "      <td>0.0</td>\n",
       "      <td>0.0</td>\n",
       "      <td>0.0</td>\n",
       "      <td>0.0</td>\n",
       "      <td>0.0</td>\n",
       "    </tr>\n",
       "  </tbody>\n",
       "</table>\n",
       "<p>5 rows × 17632 columns</p>\n",
       "</div>"
      ],
      "text/plain": [
       "artistID  1      2      3      4      5      6      7      8      9      \\\n",
       "userID                                                                    \n",
       "2           0.0    0.0    0.0    0.0    0.0    0.0    0.0    0.0    0.0   \n",
       "3           0.0    0.0    0.0    0.0    0.0    0.0    0.0    0.0    0.0   \n",
       "4           0.0    0.0    0.0    0.0    0.0    0.0    0.0    0.0    0.0   \n",
       "5           0.0    0.0    0.0    0.0    0.0    0.0    0.0    0.0    0.0   \n",
       "6           0.0    0.0    0.0    0.0    0.0    0.0    0.0    0.0    0.0   \n",
       "\n",
       "artistID  10     ...    18736  18737  18738  18739  18740  18741  18742  \\\n",
       "userID           ...                                                      \n",
       "2           0.0  ...      0.0    0.0    0.0    0.0    0.0    0.0    0.0   \n",
       "3           0.0  ...      0.0    0.0    0.0    0.0    0.0    0.0    0.0   \n",
       "4           0.0  ...      0.0    0.0    0.0    0.0    0.0    0.0    0.0   \n",
       "5           0.0  ...      0.0    0.0    0.0    0.0    0.0    0.0    0.0   \n",
       "6           0.0  ...      0.0    0.0    0.0    0.0    0.0    0.0    0.0   \n",
       "\n",
       "artistID  18743  18744  18745  \n",
       "userID                         \n",
       "2           0.0    0.0    0.0  \n",
       "3           0.0    0.0    0.0  \n",
       "4           0.0    0.0    0.0  \n",
       "5           0.0    0.0    0.0  \n",
       "6           0.0    0.0    0.0  \n",
       "\n",
       "[5 rows x 17632 columns]"
      ]
     },
     "execution_count": 148,
     "metadata": {},
     "output_type": "execute_result"
    }
   ],
   "source": [
    "# Create a utility matrix A by pivoting ratings.df\n",
    "A = users.pivot(index = 'userID', columns = 'artistID', values = 'plays').fillna(0)\n",
    "A.head()"
   ]
  },
  {
   "cell_type": "markdown",
   "metadata": {},
   "source": [
    "#### Mean Normalization on Utility Matrix"
   ]
  },
  {
   "cell_type": "code",
   "execution_count": 149,
   "metadata": {},
   "outputs": [
    {
     "data": {
      "text/plain": [
       "array([[-9.56992967, -9.56992967, -9.56992967, ..., -9.56992967,\n",
       "        -9.56992967, -9.56992967],\n",
       "       [-1.16271552, -1.16271552, -1.16271552, ..., -1.16271552,\n",
       "        -1.16271552, -1.16271552],\n",
       "       [-1.52733666, -1.52733666, -1.52733666, ..., -1.52733666,\n",
       "        -1.52733666, -1.52733666],\n",
       "       ...,\n",
       "       [-1.45173548, -1.45173548, -1.45173548, ..., -1.45173548,\n",
       "        -1.45173548, -1.45173548],\n",
       "       [-1.61768376, -1.61768376, -1.61768376, ..., -1.61768376,\n",
       "        -1.61768376, -1.61768376],\n",
       "       [-2.43421053, -2.43421053, -2.43421053, ..., -2.43421053,\n",
       "        -2.43421053, -2.43421053]])"
      ]
     },
     "execution_count": 149,
     "metadata": {},
     "output_type": "execute_result"
    }
   ],
   "source": [
    "# Mean normalize dataframe A to numpy array A_norm\n",
    "A_values = A.values\n",
    "ratings_mean = np.mean(A_values, axis = 1)\n",
    "A_norm = A_values - ratings_mean.reshape(-1,1)\n",
    "A_norm[:10]\n",
    "\n",
    "#Now we have an array for each user that has the mean of all of their plays subtracted from each rating\n"
   ]
  },
  {
   "cell_type": "markdown",
   "metadata": {},
   "source": [
    "### Matrix Factorization with SVDs"
   ]
  },
  {
   "cell_type": "markdown",
   "metadata": {},
   "source": [
    "Create three matrices from original utility matrix.\n",
    "* A = original utility matrix\n",
    "* u = user features. These are how each user likes each feature.\n",
    "* s = weights, a diagonal matrix.\n",
    "* vt = movie features. How relevant each feature is to each movie"
   ]
  },
  {
   "cell_type": "code",
   "execution_count": 150,
   "metadata": {},
   "outputs": [],
   "source": [
    "from scipy.sparse.linalg import svds\n",
    "\n",
    "u,s,vt = svds(A_norm, k=60)"
   ]
  },
  {
   "cell_type": "code",
   "execution_count": 151,
   "metadata": {},
   "outputs": [
    {
     "data": {
      "text/plain": [
       "array([[ 1.15609499e-04,  4.39285977e-05,  7.05967897e-05, ...,\n",
       "         7.74246550e-05,  7.74083766e-05, -3.33742812e-05],\n",
       "       [-3.27055579e-04, -3.08358837e-04, -3.53696723e-04, ...,\n",
       "        -3.58202589e-04, -3.58189553e-04, -4.77813789e-04],\n",
       "       [-2.32818108e-04, -1.34890574e-04, -2.60540091e-04, ...,\n",
       "        -2.69039616e-04, -2.69029214e-04, -5.68397824e-04],\n",
       "       ...,\n",
       "       [-7.35426873e-05, -7.28547628e-05, -7.30640600e-05, ...,\n",
       "        -7.30611205e-05, -7.30610978e-05, -7.29865703e-05],\n",
       "       [-8.40224751e-05, -8.04596671e-05, -8.40432493e-05, ...,\n",
       "        -8.40391538e-05, -8.40391282e-05, -8.39885129e-05],\n",
       "       [-6.55655412e-05, -8.42195866e-05, -8.97258839e-05, ...,\n",
       "        -8.97156635e-05, -8.97156914e-05, -8.95932244e-05]])"
      ]
     },
     "execution_count": 151,
     "metadata": {},
     "output_type": "execute_result"
    }
   ],
   "source": [
    "vt"
   ]
  },
  {
   "cell_type": "markdown",
   "metadata": {},
   "source": [
    "### Creating diagonal matrix for sigma factors\n",
    "This is how we provide weights for each user feature-to-movie relevance pairing.\n",
    "\n",
    "Now we have a 2D diagonal matrix of 50x50"
   ]
  },
  {
   "cell_type": "code",
   "execution_count": 152,
   "metadata": {},
   "outputs": [
    {
     "name": "stdout",
     "output_type": "stream",
     "text": [
      "[ 45580.59997173  46601.44346045  46866.06935504  47634.78360995\n",
      "  49068.92385253  49489.63017684  51016.21086369  51512.18973387\n",
      "  51892.78436588  52638.97272624  53152.325196    54617.21501538\n",
      "  55053.55601408  55674.11736015  56428.86911665  57149.17061034\n",
      "  57251.10442122  58263.90660131  58808.97338725  59930.78126213\n",
      "  61956.5194954   64181.01701669  67665.18963723  68714.5581343\n",
      "  69637.2346044   70194.84155807  72979.04715761  77421.04229318\n",
      "  79502.62218135  81993.17103901  84487.95159216  86937.37316232\n",
      "  96108.78635272  96609.97240506  99884.94765218 101301.09459364\n",
      " 103000.98267071 103502.1770617  109469.49320176 114535.95034243\n",
      " 115498.3513451  121365.37000331 124723.73606083 132824.51859405\n",
      " 134758.71833846 140273.58505092 146172.98121334 151172.54630454\n",
      " 171161.84123895 179649.27672706 183282.2335299  232682.90111541\n",
      " 247464.67255507 255387.53438738 258227.2051966  269388.22289065\n",
      " 317571.78846536 323526.36832677 324895.90434521 405527.41904943] (60,)\n"
     ]
    },
    {
     "data": {
      "text/plain": [
       "(array([[ 45580.59997173,      0.        ,      0.        , ...,\n",
       "              0.        ,      0.        ,      0.        ],\n",
       "        [     0.        ,  46601.44346045,      0.        , ...,\n",
       "              0.        ,      0.        ,      0.        ],\n",
       "        [     0.        ,      0.        ,  46866.06935504, ...,\n",
       "              0.        ,      0.        ,      0.        ],\n",
       "        ...,\n",
       "        [     0.        ,      0.        ,      0.        , ...,\n",
       "         323526.36832677,      0.        ,      0.        ],\n",
       "        [     0.        ,      0.        ,      0.        , ...,\n",
       "              0.        , 324895.90434521,      0.        ],\n",
       "        [     0.        ,      0.        ,      0.        , ...,\n",
       "              0.        ,      0.        , 405527.41904943]]), (60, 60))"
      ]
     },
     "execution_count": 152,
     "metadata": {},
     "output_type": "execute_result"
    }
   ],
   "source": [
    "print(s, s.shape)\n",
    "sigma = np.diag(s)\n",
    "sigma, sigma.shape"
   ]
  },
  {
   "cell_type": "markdown",
   "metadata": {},
   "source": [
    "### Making Predictions from the Decomposed Matrices\n",
    "\n",
    "We now just multiply u, s, and vt\n",
    "\n"
   ]
  },
  {
   "cell_type": "code",
   "execution_count": 153,
   "metadata": {},
   "outputs": [],
   "source": [
    "predictions = np.dot(np.dot(u, sigma), vt) + ratings_mean.reshape(-1, 1)\n"
   ]
  },
  {
   "cell_type": "code",
   "execution_count": 154,
   "metadata": {},
   "outputs": [
    {
     "data": {
      "text/html": [
       "<div>\n",
       "<style scoped>\n",
       "    .dataframe tbody tr th:only-of-type {\n",
       "        vertical-align: middle;\n",
       "    }\n",
       "\n",
       "    .dataframe tbody tr th {\n",
       "        vertical-align: top;\n",
       "    }\n",
       "\n",
       "    .dataframe thead th {\n",
       "        text-align: right;\n",
       "    }\n",
       "</style>\n",
       "<table border=\"1\" class=\"dataframe\">\n",
       "  <thead>\n",
       "    <tr style=\"text-align: right;\">\n",
       "      <th>artistID</th>\n",
       "      <th>1</th>\n",
       "      <th>2</th>\n",
       "      <th>3</th>\n",
       "      <th>4</th>\n",
       "      <th>5</th>\n",
       "      <th>6</th>\n",
       "      <th>7</th>\n",
       "      <th>8</th>\n",
       "      <th>9</th>\n",
       "      <th>10</th>\n",
       "      <th>...</th>\n",
       "      <th>18736</th>\n",
       "      <th>18737</th>\n",
       "      <th>18738</th>\n",
       "      <th>18739</th>\n",
       "      <th>18740</th>\n",
       "      <th>18741</th>\n",
       "      <th>18742</th>\n",
       "      <th>18743</th>\n",
       "      <th>18744</th>\n",
       "      <th>18745</th>\n",
       "    </tr>\n",
       "  </thead>\n",
       "  <tbody>\n",
       "    <tr>\n",
       "      <th>0</th>\n",
       "      <td>3.654590</td>\n",
       "      <td>7.138276</td>\n",
       "      <td>3.823821</td>\n",
       "      <td>3.913540</td>\n",
       "      <td>4.189498</td>\n",
       "      <td>3.381363</td>\n",
       "      <td>30.731426</td>\n",
       "      <td>5.800976</td>\n",
       "      <td>1.114285</td>\n",
       "      <td>2.832461</td>\n",
       "      <td>...</td>\n",
       "      <td>3.915284</td>\n",
       "      <td>3.884404</td>\n",
       "      <td>3.869690</td>\n",
       "      <td>3.866883</td>\n",
       "      <td>3.861172</td>\n",
       "      <td>3.859332</td>\n",
       "      <td>3.858655</td>\n",
       "      <td>3.857977</td>\n",
       "      <td>3.857880</td>\n",
       "      <td>3.705503</td>\n",
       "    </tr>\n",
       "    <tr>\n",
       "      <th>1</th>\n",
       "      <td>1.173797</td>\n",
       "      <td>1.201699</td>\n",
       "      <td>1.173851</td>\n",
       "      <td>1.173633</td>\n",
       "      <td>1.192049</td>\n",
       "      <td>1.208117</td>\n",
       "      <td>0.935349</td>\n",
       "      <td>1.148363</td>\n",
       "      <td>1.196357</td>\n",
       "      <td>1.177371</td>\n",
       "      <td>...</td>\n",
       "      <td>1.177290</td>\n",
       "      <td>1.176013</td>\n",
       "      <td>1.175405</td>\n",
       "      <td>1.175289</td>\n",
       "      <td>1.175053</td>\n",
       "      <td>1.174977</td>\n",
       "      <td>1.174949</td>\n",
       "      <td>1.174921</td>\n",
       "      <td>1.174917</td>\n",
       "      <td>1.173811</td>\n",
       "    </tr>\n",
       "    <tr>\n",
       "      <th>2</th>\n",
       "      <td>0.608429</td>\n",
       "      <td>0.681441</td>\n",
       "      <td>0.408766</td>\n",
       "      <td>0.437475</td>\n",
       "      <td>0.543157</td>\n",
       "      <td>0.947715</td>\n",
       "      <td>-16.863199</td>\n",
       "      <td>0.766027</td>\n",
       "      <td>2.153568</td>\n",
       "      <td>1.724729</td>\n",
       "      <td>...</td>\n",
       "      <td>0.416733</td>\n",
       "      <td>0.412291</td>\n",
       "      <td>0.410174</td>\n",
       "      <td>0.409770</td>\n",
       "      <td>0.408949</td>\n",
       "      <td>0.408684</td>\n",
       "      <td>0.408587</td>\n",
       "      <td>0.408489</td>\n",
       "      <td>0.408475</td>\n",
       "      <td>0.404656</td>\n",
       "    </tr>\n",
       "    <tr>\n",
       "      <th>3</th>\n",
       "      <td>-0.033741</td>\n",
       "      <td>0.173981</td>\n",
       "      <td>-0.061615</td>\n",
       "      <td>-0.021302</td>\n",
       "      <td>0.085430</td>\n",
       "      <td>0.491645</td>\n",
       "      <td>0.120850</td>\n",
       "      <td>0.093050</td>\n",
       "      <td>3.063983</td>\n",
       "      <td>2.507536</td>\n",
       "      <td>...</td>\n",
       "      <td>-0.050836</td>\n",
       "      <td>-0.055908</td>\n",
       "      <td>-0.058324</td>\n",
       "      <td>-0.058786</td>\n",
       "      <td>-0.059724</td>\n",
       "      <td>-0.060026</td>\n",
       "      <td>-0.060137</td>\n",
       "      <td>-0.060248</td>\n",
       "      <td>-0.060264</td>\n",
       "      <td>0.266436</td>\n",
       "    </tr>\n",
       "    <tr>\n",
       "      <th>4</th>\n",
       "      <td>0.049237</td>\n",
       "      <td>0.046018</td>\n",
       "      <td>0.049468</td>\n",
       "      <td>0.049634</td>\n",
       "      <td>0.049319</td>\n",
       "      <td>0.046179</td>\n",
       "      <td>0.336372</td>\n",
       "      <td>0.042641</td>\n",
       "      <td>0.043525</td>\n",
       "      <td>0.047553</td>\n",
       "      <td>...</td>\n",
       "      <td>0.049366</td>\n",
       "      <td>0.049414</td>\n",
       "      <td>0.049436</td>\n",
       "      <td>0.049440</td>\n",
       "      <td>0.049449</td>\n",
       "      <td>0.049452</td>\n",
       "      <td>0.049453</td>\n",
       "      <td>0.049454</td>\n",
       "      <td>0.049454</td>\n",
       "      <td>0.050500</td>\n",
       "    </tr>\n",
       "  </tbody>\n",
       "</table>\n",
       "<p>5 rows × 17632 columns</p>\n",
       "</div>"
      ],
      "text/plain": [
       "artistID     1         2         3         4         5         6      \\\n",
       "0         3.654590  7.138276  3.823821  3.913540  4.189498  3.381363   \n",
       "1         1.173797  1.201699  1.173851  1.173633  1.192049  1.208117   \n",
       "2         0.608429  0.681441  0.408766  0.437475  0.543157  0.947715   \n",
       "3        -0.033741  0.173981 -0.061615 -0.021302  0.085430  0.491645   \n",
       "4         0.049237  0.046018  0.049468  0.049634  0.049319  0.046179   \n",
       "\n",
       "artistID      7         8         9         10       ...        18736  \\\n",
       "0         30.731426  5.800976  1.114285  2.832461    ...     3.915284   \n",
       "1          0.935349  1.148363  1.196357  1.177371    ...     1.177290   \n",
       "2        -16.863199  0.766027  2.153568  1.724729    ...     0.416733   \n",
       "3          0.120850  0.093050  3.063983  2.507536    ...    -0.050836   \n",
       "4          0.336372  0.042641  0.043525  0.047553    ...     0.049366   \n",
       "\n",
       "artistID     18737     18738     18739     18740     18741     18742  \\\n",
       "0         3.884404  3.869690  3.866883  3.861172  3.859332  3.858655   \n",
       "1         1.176013  1.175405  1.175289  1.175053  1.174977  1.174949   \n",
       "2         0.412291  0.410174  0.409770  0.408949  0.408684  0.408587   \n",
       "3        -0.055908 -0.058324 -0.058786 -0.059724 -0.060026 -0.060137   \n",
       "4         0.049414  0.049436  0.049440  0.049449  0.049452  0.049453   \n",
       "\n",
       "artistID     18743     18744     18745  \n",
       "0         3.857977  3.857880  3.705503  \n",
       "1         1.174921  1.174917  1.173811  \n",
       "2         0.408489  0.408475  0.404656  \n",
       "3        -0.060248 -0.060264  0.266436  \n",
       "4         0.049454  0.049454  0.050500  \n",
       "\n",
       "[5 rows x 17632 columns]"
      ]
     },
     "execution_count": 154,
     "metadata": {},
     "output_type": "execute_result"
    }
   ],
   "source": [
    "predictions_df = pd.DataFrame(predictions, columns = A.columns)\n",
    "predictions_df.head()"
   ]
  },
  {
   "cell_type": "markdown",
   "metadata": {},
   "source": [
    "### Making Recommendations"
   ]
  },
  {
   "cell_type": "code",
   "execution_count": 157,
   "metadata": {},
   "outputs": [],
   "source": [
    "# Recommending top movies not yet rated by user\n",
    "def recommender(predictions_df, UID, artists_df, original_plays_df, num_recommendations=5):\n",
    "    \n",
    "    # Get and sort the user's predictions\n",
    "    user_row = UID-1 # UID starts at 1, not 0\n",
    "    sorted_predictions = predictions_df.iloc[user_row].sort_values(ascending = False)\n",
    "    \n",
    "    # Get the original user data and merge in the movie information \n",
    "   # user_data = original_ratings_df.iloc[user_row]\n",
    "    user_data = original_plays_df[original_plays_df.userID == (UID)]\n",
    "    user_full = user_data.merge(artists_df, how ='left', left_on = 'artistID', right_on = 'artistID').sort_values(['plays'], ascending = False)\n",
    "\n",
    "    \n",
    "    # Recommend the highest predicted rating movies that the user hasn't seen yet.\n",
    "    # ~ all MIDS that are NOT in user_full MIS\n",
    "    recommendations = artists_df[~artists_df['artistID'].isin(user_full['artistID'])] \\\n",
    "                      .merge(pd.DataFrame(sorted_predictions).reset_index(), \n",
    "                             how = 'left', left_on = 'artistID', right_on = 'artistID') \\\n",
    "                      .rename(columns = {user_row: 'Predictions'}) \\\n",
    "                      .sort_values('Predictions', ascending = False) \\\n",
    "                      .iloc[:num_recommendations, :-1]\n",
    "    return f\"The top {num_recommendations} artists for user {UID} are: \", recommendations"
   ]
  },
  {
   "cell_type": "code",
   "execution_count": 160,
   "metadata": {},
   "outputs": [
    {
     "data": {
      "text/plain": [
       "('The top 10 artists for user 45 are: ',       artistID                 name  \\\n",
       " 322        344         Taylor Swift   \n",
       " 300        318          Hilary Duff   \n",
       " 281        294          Leona Lewis   \n",
       " 1400      1459     Carrie Underwood   \n",
       " 288        304      David Archuleta   \n",
       " 653        681          Demi Lovato   \n",
       " 675        704  The Pretty Reckless   \n",
       " 473        498             Paramore   \n",
       " 866        903        Amy Winehouse   \n",
       " 498        523        Lindsay Lohan   \n",
       " \n",
       "                                                url  \n",
       " 322          http://www.last.fm/music/Taylor+Swift  \n",
       " 300           http://www.last.fm/music/Hilary+Duff  \n",
       " 281           http://www.last.fm/music/Leona+Lewis  \n",
       " 1400     http://www.last.fm/music/Carrie+Underwood  \n",
       " 288       http://www.last.fm/music/David+Archuleta  \n",
       " 653           http://www.last.fm/music/Demi+Lovato  \n",
       " 675   http://www.last.fm/music/The+Pretty+Reckless  \n",
       " 473              http://www.last.fm/music/Paramore  \n",
       " 866         http://www.last.fm/music/Amy+Winehouse  \n",
       " 498         http://www.last.fm/music/Lindsay+Lohan  )"
      ]
     },
     "execution_count": 160,
     "metadata": {},
     "output_type": "execute_result"
    }
   ],
   "source": [
    "recommender(predictions_df, 45, artists, users, 10)"
   ]
  },
  {
   "cell_type": "code",
   "execution_count": null,
   "metadata": {},
   "outputs": [],
   "source": []
  }
 ],
 "metadata": {
  "kernelspec": {
   "display_name": "Python 3",
   "language": "python",
   "name": "python3"
  },
  "language_info": {
   "codemirror_mode": {
    "name": "ipython",
    "version": 3
   },
   "file_extension": ".py",
   "mimetype": "text/x-python",
   "name": "python",
   "nbconvert_exporter": "python",
   "pygments_lexer": "ipython3",
   "version": "3.6.7"
  }
 },
 "nbformat": 4,
 "nbformat_minor": 2
}
